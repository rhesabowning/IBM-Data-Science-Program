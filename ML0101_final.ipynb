{
 "cells": [
  {
   "cell_type": "markdown",
   "metadata": {},
   "source": [
    "<center>\n",
    "    <img src=\"https://s3-api.us-geo.objectstorage.softlayer.net/cf-courses-data/CognitiveClass/Logos/organization_logo/organization_logo.png\" width=\"300\" alt=\"cognitiveclass.ai logo\"  />\n",
    "</center>\n",
    "\n",
    "# Final Assessment - Growth of Corona\n",
    "\n",
    "## Objectives\n",
    "\n",
    "After completing this lab you will be able to:\n",
    "\n",
    "-   Be confident about your machine learning skills\n"
   ]
  },
  {
   "cell_type": "markdown",
   "metadata": {},
   "source": [
    "Welcome to the final assigment. Please import this notebook into IBM Watson Studio. This Notebook displays growth of Corona cases. Please change the Country to anything other than \"United_States_of_America\". A list of available countries is given in the next cell. You can change the country in the cell after the next cell. Once finished, please share the notebook for grading.\n"
   ]
  },
  {
   "cell_type": "code",
   "execution_count": 12,
   "metadata": {
    "scrolled": true
   },
   "outputs": [
    {
     "data": {
      "text/plain": [
       "array([u'Afghanistan', u'Angola', u'Albania', u'Andorra', u'Argentina',\n",
       "       u'Antigua_and_Barbuda', u'Algeria', u'Armenia', u'Aruba',\n",
       "       u'Australia', u'Austria', u'Azerbaijan', u'Bahamas', u'Bahrain',\n",
       "       u'Bangladesh', u'Barbados', u'Belarus', u'Belgium', u'Belize',\n",
       "       u'Benin', u'Bermuda', u'Bhutan', u'Bolivia',\n",
       "       u'Bosnia_and_Herzegovina', u'Brazil', u'Brunei_Darussalam',\n",
       "       u'Bulgaria', u'Burkina_Faso', u'Cambodia', u'Cameroon', u'Canada',\n",
       "       u'Cape_Verde', u'Cases_on_an_international_conveyance_Japan',\n",
       "       u'Cayman_Islands', u'Central_African_Republic', u'Chad', u'Chile',\n",
       "       u'China', u'Colombia', u'Congo', u'Costa_Rica', u'Cote_dIvoire',\n",
       "       u'Croatia', u'Cuba', u'Cura\\xe7ao', u'Cyprus', u'Czech_Republic',\n",
       "       u'Democratic_Republic_of_the_Congo', u'Denmark', u'Djibouti',\n",
       "       u'Dominica', u'Dominican_Republic', u'Ecuador', u'Egypt',\n",
       "       u'El_Salvador', u'Equatorial_Guinea', u'Eritrea', u'Estonia',\n",
       "       u'Eswatini', u'Ethiopia', u'Faroe_Islands', u'Fiji', u'Finland',\n",
       "       u'France', u'French_Polynesia', u'Gabon', u'Gambia', u'Georgia',\n",
       "       u'Germany', u'Ghana', u'Gibraltar', u'Greece', u'Greenland',\n",
       "       u'Grenada', u'Guam', u'Guatemala', u'Guernsey', u'Guinea',\n",
       "       u'Guyana', u'Haiti', u'Holy_See', u'Honduras', u'Hungary',\n",
       "       u'Iceland', u'India', u'Indonesia', u'Iran', u'Iraq', u'Ireland',\n",
       "       u'Isle_of_Man', u'Israel', u'Italy', u'Jamaica', u'Japan',\n",
       "       u'Jersey', u'Jordan', u'Kazakhstan', u'Kenya', u'Kosovo',\n",
       "       u'Kuwait', u'Kyrgyzstan', u'Laos', u'Latvia', u'Lebanon',\n",
       "       u'Liberia', u'Libya', u'Liechtenstein', u'Lithuania',\n",
       "       u'Luxembourg', u'Madagascar', u'Malaysia', u'Maldives', u'Mali',\n",
       "       u'Malta', u'Mauritania', u'Mauritius', u'Mexico', u'Moldova',\n",
       "       u'Monaco', u'Mongolia', u'Montenegro', u'Montserrat', u'Morocco',\n",
       "       u'Mozambique', u'Myanmar', u'Namibia', u'Nepal', u'Netherlands',\n",
       "       u'New_Caledonia', u'New_Zealand', u'Nicaragua', u'Niger',\n",
       "       u'Nigeria', u'North_Macedonia', u'Norway', u'Oman', u'Pakistan',\n",
       "       u'Palestine', u'Panama', u'Papua_New_Guinea', u'Paraguay', u'Peru',\n",
       "       u'Philippines', u'Poland', u'Portugal', u'Qatar', u'Romania',\n",
       "       u'Russia', u'Rwanda', u'Saint_Kitts_and_Nevis', u'Saint_Lucia',\n",
       "       u'Saint_Vincent_and_the_Grenadines', u'San_Marino',\n",
       "       u'Saudi_Arabia', u'Senegal', u'Serbia', u'Seychelles',\n",
       "       u'Singapore', u'Sint_Maarten', u'Slovakia', u'Slovenia',\n",
       "       u'Somalia', u'South_Africa', u'South_Korea', u'Spain',\n",
       "       u'Sri_Lanka', u'Sudan', u'Suriname', u'Sweden', u'Switzerland',\n",
       "       u'Syria', u'Taiwan', u'Thailand', u'Timor_Leste', u'Togo',\n",
       "       u'Trinidad_and_Tobago', u'Tunisia', u'Turkey',\n",
       "       u'Turks_and_Caicos_islands', u'Uganda', u'Ukraine',\n",
       "       u'United_Arab_Emirates', u'United_Kingdom',\n",
       "       u'United_Republic_of_Tanzania', u'United_States_of_America',\n",
       "       u'United_States_Virgin_Islands', u'Uruguay', u'Uzbekistan',\n",
       "       u'Venezuela', u'Vietnam', u'Zambia', u'Zimbabwe'], dtype=object)"
      ]
     },
     "execution_count": 12,
     "metadata": {},
     "output_type": "execute_result"
    }
   ],
   "source": [
    "import pandas as pd\n",
    "import seaborn as sns\n",
    "\n",
    "url = 'https://www.ecdc.europa.eu/sites/default/files/documents/COVID-19-geographic-disbtribution-worldwide-2020-03-26.xlsx'\n",
    "df_raw = pd.read_excel(url)\n",
    "\n",
    "df_raw['Countries and territories'].unique()"
   ]
  },
  {
   "cell_type": "code",
   "execution_count": 13,
   "metadata": {},
   "outputs": [],
   "source": [
    "df = df_raw\n",
    "\n",
    "df = df[df['Countries and territories']=='Uganda']\n",
    "\n",
    "df = df.sort_values(['Year', 'Month' ,'Day'], ascending=[1, 1, 1])\n",
    "\n",
    "df['ts'] = pd.to_datetime(df[['Year', 'Month' ,'Day']])\n",
    "\n"
   ]
  },
  {
   "cell_type": "code",
   "execution_count": 14,
   "metadata": {},
   "outputs": [
    {
     "data": {
      "text/plain": [
       "[Text(0,0,'2020-03-22 00:00:00'),\n",
       " Text(0,0,'2020-03-23 00:00:00'),\n",
       " Text(0,0,'2020-03-24 00:00:00'),\n",
       " Text(0,0,'2020-03-25 00:00:00'),\n",
       " Text(0,0,'2020-03-26 00:00:00')]"
      ]
     },
     "execution_count": 14,
     "metadata": {},
     "output_type": "execute_result"
    },
    {
     "data": {
      "image/png": "[encoded data removed]",
      "text/plain": [
       "<Figure size 432x288 with 1 Axes>"
      ]
     },
     "metadata": {
      "needs_background": "light"
     },
     "output_type": "display_data"
    }
   ],
   "source": [
    "chart = sns.lineplot(x='ts', y='Cases', data=df, hue='Countries and territories')\n",
    "chart.set_xticklabels(df['ts'],rotation=45)\n",
    "\n",
    "\n"
   ]
  },
  {
   "cell_type": "markdown",
   "metadata": {},
   "source": [
    "### Thank you for completing this lab!\n",
    "\n",
    "## Author\n",
    "\n",
    "Romeo Kienzler\n",
    "\n",
    "## Other Contributors\n",
    "\n",
    "Lavanya\n",
    "\n",
    "## Change Log\n",
    "\n",
    "| Date (YYYY-MM-DD) | Version | Changed By | Change Description                 |\n",
    "| ----------------- | ------- | ---------- | ---------------------------------- |\n",
    "| 2020-09-01        | 2.0     | Lavanya    | Moved lab to course repo in GitLab |\n",
    "\n",
    "<hr>\n",
    "\n",
    "## <h3 align=\"center\"> © IBM Corporation 2020. All rights reserved. <h3/>\n"
   ]
  },
  {
   "cell_type": "code",
   "execution_count": null,
   "metadata": {},
   "outputs": [],
   "source": []
  }
 ],
 "metadata": {
  "kernelspec": {
   "display_name": "Python 2",
   "language": "python",
   "name": "python2"
  },
  "language_info": {
   "codemirror_mode": {
    "name": "ipython",
    "version": 2
   },
   "file_extension": ".py",
   "mimetype": "text/x-python",
   "name": "python",
   "nbconvert_exporter": "python",
   "pygments_lexer": "ipython2",
   "version": "2.7.16"
  }
 },
 "nbformat": 4,
 "nbformat_minor": 1
}
